{
 "cells": [
  {
   "cell_type": "code",
   "execution_count": 1,
   "id": "2aa26400-93d9-43aa-b91b-1cfeb3d294ce",
   "metadata": {},
   "outputs": [],
   "source": [
    "# !pip install llama-index llama-index-llms-ollama"
   ]
  },
  {
   "cell_type": "code",
   "execution_count": 2,
   "id": "91202dee-666d-4ccf-9c9f-860e902662dc",
   "metadata": {},
   "outputs": [],
   "source": [
    "# !pip install llama-index-embeddings-huggingface"
   ]
  },
  {
   "cell_type": "code",
   "execution_count": 3,
   "id": "43f7aaea-df77-4bed-8806-52eb713f9312",
   "metadata": {},
   "outputs": [],
   "source": [
    "from llama_index.embeddings.huggingface import HuggingFaceEmbedding"
   ]
  },
  {
   "cell_type": "code",
   "execution_count": 4,
   "id": "3a8422a6-235b-4f16-a9da-0579406c9dd3",
   "metadata": {},
   "outputs": [],
   "source": [
    "from llama_index.llms.ollama import Ollama\n",
    "from llama_index.embeddings.huggingface import HuggingFaceEmbedding\n",
    "from llama_index.core import Settings\n",
    "import nest_asyncio\n",
    "\n",
    "nest_asyncio.apply()\n",
    "\n",
    "# Setup the local LLM via Ollama using the model \"qwq:32b\"\n",
    "Settings.llm = Ollama(model=\"qwq:32b\", request_timeout=30.0)\n",
    "\n",
    "# Setup the embedding model using the local model directory.\n",
    "Settings.embed_model = HuggingFaceEmbedding(model_name=\"sentence-transformers/all-MiniLM-L6-v2\")"
   ]
  },
  {
   "cell_type": "code",
   "execution_count": 5,
   "id": "2498c12c-9370-4b30-9b09-dff5d81fc186",
   "metadata": {},
   "outputs": [],
   "source": [
    "from llama_index.core import Settings, SimpleDirectoryReader, VectorStoreIndex\n",
    "from llama_index.core.node_parser import SentenceSplitter\n",
    "# -----------------------------------------------------------\n",
    "# Create a Sentence Splitter for document parsing\n",
    "# -----------------------------------------------------------\n",
    "splitter = SentenceSplitter(chunk_size=1024)\n",
    "\n",
    "# -----------------------------------------------------------\n",
    "# Helper Function: Create Query Engine from a PDF file\n",
    "# -----------------------------------------------------------\n",
    "def create_query_engine(pdf_file_path: str):\n",
    "    # Read the document(s)\n",
    "    documents = SimpleDirectoryReader(input_files=[pdf_file_path]).load_data()\n",
    "    # Parse documents into nodes using the sentence splitter\n",
    "    nodes = splitter.get_nodes_from_documents(documents)\n",
    "    # Create the vector store index\n",
    "    index = VectorStoreIndex(nodes)\n",
    "    # Return the query engine for the index\n",
    "    return index.as_query_engine()\n",
    "\n",
    "# -----------------------------------------------------------\n",
    "# Setup Document Indexes for Vector Search\n",
    "# -----------------------------------------------------------\n",
    "# Aeroflow Specification Document\n",
    "aeroflow_query_engine = create_query_engine(\"AeroFlow_Specification_Document.pdf\")\n",
    "\n",
    "# EchoSprint Specification Document\n",
    "ecosprint_query_engine = create_query_engine(\"EcoSprint_Specification_Document.pdf\")"
   ]
  },
  {
   "cell_type": "code",
   "execution_count": 7,
   "id": "9a8b1b6f-22cf-41bd-97ed-fa1bf5fc6e35",
   "metadata": {},
   "outputs": [],
   "source": [
    "from llama_index.core.tools import QueryEngineTool\n",
    "from llama_index.core.query_engine.router_query_engine import RouterQueryEngine\n",
    "from llama_index.core.selectors import LLMSingleSelector\n",
    "\n",
    "# Create a query engine tool for Aeroflow specifications\n",
    "aeroflow_tool = QueryEngineTool.from_defaults(\n",
    "    query_engine=aeroflow_query_engine,\n",
    "    name=\"Aeroflow specifications\",\n",
    "    description=\"Contains information about Aeroflow: Design, features, technology, maintenance, warranty\"\n",
    ")\n",
    "\n",
    "# Create a query engine tool for EcoSprint specifications\n",
    "ecosprint_tool = QueryEngineTool.from_defaults(\n",
    "    query_engine=ecosprint_query_engine,\n",
    "    name=\"EcoSprint specifications\",\n",
    "    description=\"Contains information about EcoSprint: Design, features, technology, maintenance, warranty\"\n",
    ")\n",
    "\n",
    "# Create a Router Agent to select the appropriate tool based on the query\n",
    "router_agent = RouterQueryEngine(\n",
    "    selector=LLMSingleSelector.from_defaults(),\n",
    "    query_engine_tools=[aeroflow_tool, ecosprint_tool],\n",
    "    verbose=True\n",
    ")"
   ]
  },
  {
   "cell_type": "code",
   "execution_count": 8,
   "id": "d7db65c9-dcdd-4ade-9336-6e9d99d86742",
   "metadata": {},
   "outputs": [
    {
     "name": "stdout",
     "output_type": "stream",
     "text": [
      "\u001b[1;3;38;5;200mSelecting query engine 0: The question asks about AeroFlow's available colors. Choice (1) specifically references AeroFlow's 'Design' category, which would logically include color options as part of the product's design details..\n",
      "\u001b[0m\n",
      "Response:  <think>\n",
      "Okay, let me look at the context provided. The user is asking about the available colors for AeroFlow.\n",
      "\n",
      "Looking through the Design Specifications section under Exterior Design, it mentions the colors Coastal Blue, Sunset Orange, and Pearl White. I need to make sure these are the only ones listed. There's no mention of other colors on the second page either. So the answer should list those three colors without referencing the context directly.\n",
      "</think>\n",
      "\n",
      "AeroFlow is available in Coastal Blue, Sunset Orange, and Pearl White.\n"
     ]
    }
   ],
   "source": [
    "#Ask a question about NoSQL\n",
    "response = router_agent.query(\"What colors are available for AeroFlow?\")\n",
    "print(\"\\nResponse: \",str(response))"
   ]
  },
  {
   "cell_type": "code",
   "execution_count": 9,
   "id": "ea6984c9-9dbf-4657-8da1-0eb7a5894f8d",
   "metadata": {},
   "outputs": [
    {
     "name": "stdout",
     "output_type": "stream",
     "text": [
      "\u001b[1;3;38;5;200mSelecting query engine 1: The question asks about EcoSprint's available colors. Since item (2) specifically refers to EcoSprint and includes 'design' as one of its categories, design likely encompasses color options. Item (1) pertains to Aeroflow, which is unrelated to the queried product..\n",
      "\u001b[0m\n",
      "Response:  <think>\n",
      "Okay, let's see. The user is asking about the available colors for the EcoSprint.\n",
      "\n",
      "Looking at the context provided, in the Design Specifications section under Exterior Design, it mentions the colors Midnight Black, Ocean Blue, and Pearl White. I need to make sure those are the ones listed. \n",
      "\n",
      "Wait, the page labels show that the first page has the exterior colors. The user wants just the answer without referencing the context directly. So I should list those three colors exactly as stated. No other colors are mentioned here. Let me double-check if there's any other mention of colors elsewhere in the provided pages. Scanning through the rest, sections 1 to 7 don't mention any other colors. \n",
      "\n",
      "So the answer is Midnight Black, Ocean Blue, and Pearl White. I'll present them in a list format as per the instructions.\n",
      "</think>\n",
      "\n",
      "The EcoSprint is available in Midnight Black, Ocean Blue, and Pearl White.\n"
     ]
    }
   ],
   "source": [
    "response = router_agent.query(\"What colors are available for EcoSprint?\")\n",
    "print(\"\\nResponse: \",str(response))"
   ]
  }
 ],
 "metadata": {
  "kernelspec": {
   "display_name": "Python 3 (ipykernel)",
   "language": "python",
   "name": "python3"
  },
  "language_info": {
   "codemirror_mode": {
    "name": "ipython",
    "version": 3
   },
   "file_extension": ".py",
   "mimetype": "text/x-python",
   "name": "python",
   "nbconvert_exporter": "python",
   "pygments_lexer": "ipython3",
   "version": "3.10.16"
  }
 },
 "nbformat": 4,
 "nbformat_minor": 5
}
